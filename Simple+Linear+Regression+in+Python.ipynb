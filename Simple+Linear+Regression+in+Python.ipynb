{
  "nbformat": 4,
  "nbformat_minor": 0,
  "metadata": {
    "kernelspec": {
      "display_name": "Python 3",
      "language": "python",
      "name": "python3"
    },
    "language_info": {
      "codemirror_mode": {
        "name": "ipython",
        "version": 3
      },
      "file_extension": ".py",
      "mimetype": "text/x-python",
      "name": "python",
      "nbconvert_exporter": "python",
      "pygments_lexer": "ipython3",
      "version": "3.6.5"
    },
    "colab": {
      "name": "Simple+Linear+Regression+in+Python.ipynb",
      "provenance": [],
      "include_colab_link": true
    }
  },
  "cells": [
    {
      "cell_type": "markdown",
      "metadata": {
        "id": "view-in-github",
        "colab_type": "text"
      },
      "source": [
        "<a href=\"https://colab.research.google.com/github/Arch0/linear-regression/blob/main/Simple%2BLinear%2BRegression%2Bin%2BPython.ipynb\" target=\"_parent\"><img src=\"https://colab.research.google.com/assets/colab-badge.svg\" alt=\"Open In Colab\"/></a>"
      ]
    },
    {
      "cell_type": "markdown",
      "metadata": {
        "id": "sAXrgGH5i1yd"
      },
      "source": [
        "# Simple Linear Regression\n",
        "\n",
        "In this notebook, we'll build a linear regression model to predict `Sales` using an appropriate predictor variable."
      ]
    },
    {
      "cell_type": "code",
      "metadata": {
        "colab": {
          "base_uri": "https://localhost:8080/"
        },
        "id": "ZsjNUjVdi77i",
        "outputId": "8399ac69-8e0f-4d4e-900b-df5405a84656"
      },
      "source": [
        "from google.colab import drive\n",
        "drive.mount('/content/drive')"
      ],
      "execution_count": 2,
      "outputs": [
        {
          "output_type": "stream",
          "text": [
            "Drive already mounted at /content/drive; to attempt to forcibly remount, call drive.mount(\"/content/drive\", force_remount=True).\n"
          ],
          "name": "stdout"
        }
      ]
    },
    {
      "cell_type": "markdown",
      "metadata": {
        "id": "z2YfNlPoi1yl"
      },
      "source": [
        "## Step 1: Reading and Understanding the Data\n",
        "\n",
        "Let's start with the following steps:\n",
        "\n",
        "1. Importing data using the pandas library\n",
        "2. Understanding the structure of the data"
      ]
    },
    {
      "cell_type": "code",
      "metadata": {
        "id": "WUb1xJH7i1ym"
      },
      "source": [
        "# Supress Warnings\n",
        "\n",
        "import warnings\n",
        "warnings.filterwarnings('ignore')"
      ],
      "execution_count": 3,
      "outputs": []
    },
    {
      "cell_type": "code",
      "metadata": {
        "id": "416BP6f2i1yo"
      },
      "source": [
        "# Import the numpy and pandas package\n",
        "\n",
        "import numpy as np\n",
        "import pandas as pd"
      ],
      "execution_count": 4,
      "outputs": []
    },
    {
      "cell_type": "code",
      "metadata": {
        "colab": {
          "base_uri": "https://localhost:8080/",
          "height": 203
        },
        "id": "y8xHix9si1yp",
        "outputId": "46627311-00b3-43a7-aabd-96b1bf3b17ee"
      },
      "source": [
        "# Read the given CSV file, and view some sample records\n",
        "\n",
        "advertising = pd.read_csv(\"/content/drive/MyDrive/advertising.csv\")\n",
        "advertising.head()"
      ],
      "execution_count": 6,
      "outputs": [
        {
          "output_type": "execute_result",
          "data": {
            "text/html": [
              "<div>\n",
              "<style scoped>\n",
              "    .dataframe tbody tr th:only-of-type {\n",
              "        vertical-align: middle;\n",
              "    }\n",
              "\n",
              "    .dataframe tbody tr th {\n",
              "        vertical-align: top;\n",
              "    }\n",
              "\n",
              "    .dataframe thead th {\n",
              "        text-align: right;\n",
              "    }\n",
              "</style>\n",
              "<table border=\"1\" class=\"dataframe\">\n",
              "  <thead>\n",
              "    <tr style=\"text-align: right;\">\n",
              "      <th></th>\n",
              "      <th>TV</th>\n",
              "      <th>Radio</th>\n",
              "      <th>Newspaper</th>\n",
              "      <th>Sales</th>\n",
              "    </tr>\n",
              "  </thead>\n",
              "  <tbody>\n",
              "    <tr>\n",
              "      <th>0</th>\n",
              "      <td>230.1</td>\n",
              "      <td>37.8</td>\n",
              "      <td>69.2</td>\n",
              "      <td>22.1</td>\n",
              "    </tr>\n",
              "    <tr>\n",
              "      <th>1</th>\n",
              "      <td>44.5</td>\n",
              "      <td>39.3</td>\n",
              "      <td>45.1</td>\n",
              "      <td>10.4</td>\n",
              "    </tr>\n",
              "    <tr>\n",
              "      <th>2</th>\n",
              "      <td>17.2</td>\n",
              "      <td>45.9</td>\n",
              "      <td>69.3</td>\n",
              "      <td>12.0</td>\n",
              "    </tr>\n",
              "    <tr>\n",
              "      <th>3</th>\n",
              "      <td>151.5</td>\n",
              "      <td>41.3</td>\n",
              "      <td>58.5</td>\n",
              "      <td>16.5</td>\n",
              "    </tr>\n",
              "    <tr>\n",
              "      <th>4</th>\n",
              "      <td>180.8</td>\n",
              "      <td>10.8</td>\n",
              "      <td>58.4</td>\n",
              "      <td>17.9</td>\n",
              "    </tr>\n",
              "  </tbody>\n",
              "</table>\n",
              "</div>"
            ],
            "text/plain": [
              "      TV  Radio  Newspaper  Sales\n",
              "0  230.1   37.8       69.2   22.1\n",
              "1   44.5   39.3       45.1   10.4\n",
              "2   17.2   45.9       69.3   12.0\n",
              "3  151.5   41.3       58.5   16.5\n",
              "4  180.8   10.8       58.4   17.9"
            ]
          },
          "metadata": {
            "tags": []
          },
          "execution_count": 6
        }
      ]
    },
    {
      "cell_type": "markdown",
      "metadata": {
        "id": "-F53LXVEi1yr"
      },
      "source": [
        "Let's inspect the various aspects of our dataframe"
      ]
    },
    {
      "cell_type": "code",
      "metadata": {
        "scrolled": true,
        "colab": {
          "base_uri": "https://localhost:8080/"
        },
        "id": "JTubfTrdi1ys",
        "outputId": "ae1179c1-6188-4e37-8b12-91887dba1dfa"
      },
      "source": [
        "advertising.shape"
      ],
      "execution_count": 7,
      "outputs": [
        {
          "output_type": "execute_result",
          "data": {
            "text/plain": [
              "(200, 4)"
            ]
          },
          "metadata": {
            "tags": []
          },
          "execution_count": 7
        }
      ]
    },
    {
      "cell_type": "code",
      "metadata": {
        "colab": {
          "base_uri": "https://localhost:8080/"
        },
        "id": "DA1SIFgoi1yt",
        "outputId": "67231b2e-74c6-4f30-9db9-d6ea1ce0e13b"
      },
      "source": [
        "advertising.info()"
      ],
      "execution_count": 8,
      "outputs": [
        {
          "output_type": "stream",
          "text": [
            "<class 'pandas.core.frame.DataFrame'>\n",
            "RangeIndex: 200 entries, 0 to 199\n",
            "Data columns (total 4 columns):\n",
            " #   Column     Non-Null Count  Dtype  \n",
            "---  ------     --------------  -----  \n",
            " 0   TV         200 non-null    float64\n",
            " 1   Radio      200 non-null    float64\n",
            " 2   Newspaper  200 non-null    float64\n",
            " 3   Sales      200 non-null    float64\n",
            "dtypes: float64(4)\n",
            "memory usage: 6.4 KB\n"
          ],
          "name": "stdout"
        }
      ]
    },
    {
      "cell_type": "code",
      "metadata": {
        "colab": {
          "base_uri": "https://localhost:8080/",
          "height": 295
        },
        "id": "FMiD96CIi1yu",
        "outputId": "e78b4fd1-6ad7-48cf-b9b3-620e6a7a1aa6"
      },
      "source": [
        "advertising.describe()"
      ],
      "execution_count": 9,
      "outputs": [
        {
          "output_type": "execute_result",
          "data": {
            "text/html": [
              "<div>\n",
              "<style scoped>\n",
              "    .dataframe tbody tr th:only-of-type {\n",
              "        vertical-align: middle;\n",
              "    }\n",
              "\n",
              "    .dataframe tbody tr th {\n",
              "        vertical-align: top;\n",
              "    }\n",
              "\n",
              "    .dataframe thead th {\n",
              "        text-align: right;\n",
              "    }\n",
              "</style>\n",
              "<table border=\"1\" class=\"dataframe\">\n",
              "  <thead>\n",
              "    <tr style=\"text-align: right;\">\n",
              "      <th></th>\n",
              "      <th>TV</th>\n",
              "      <th>Radio</th>\n",
              "      <th>Newspaper</th>\n",
              "      <th>Sales</th>\n",
              "    </tr>\n",
              "  </thead>\n",
              "  <tbody>\n",
              "    <tr>\n",
              "      <th>count</th>\n",
              "      <td>200.000000</td>\n",
              "      <td>200.000000</td>\n",
              "      <td>200.000000</td>\n",
              "      <td>200.000000</td>\n",
              "    </tr>\n",
              "    <tr>\n",
              "      <th>mean</th>\n",
              "      <td>147.042500</td>\n",
              "      <td>23.264000</td>\n",
              "      <td>30.554000</td>\n",
              "      <td>15.130500</td>\n",
              "    </tr>\n",
              "    <tr>\n",
              "      <th>std</th>\n",
              "      <td>85.854236</td>\n",
              "      <td>14.846809</td>\n",
              "      <td>21.778621</td>\n",
              "      <td>5.283892</td>\n",
              "    </tr>\n",
              "    <tr>\n",
              "      <th>min</th>\n",
              "      <td>0.700000</td>\n",
              "      <td>0.000000</td>\n",
              "      <td>0.300000</td>\n",
              "      <td>1.600000</td>\n",
              "    </tr>\n",
              "    <tr>\n",
              "      <th>25%</th>\n",
              "      <td>74.375000</td>\n",
              "      <td>9.975000</td>\n",
              "      <td>12.750000</td>\n",
              "      <td>11.000000</td>\n",
              "    </tr>\n",
              "    <tr>\n",
              "      <th>50%</th>\n",
              "      <td>149.750000</td>\n",
              "      <td>22.900000</td>\n",
              "      <td>25.750000</td>\n",
              "      <td>16.000000</td>\n",
              "    </tr>\n",
              "    <tr>\n",
              "      <th>75%</th>\n",
              "      <td>218.825000</td>\n",
              "      <td>36.525000</td>\n",
              "      <td>45.100000</td>\n",
              "      <td>19.050000</td>\n",
              "    </tr>\n",
              "    <tr>\n",
              "      <th>max</th>\n",
              "      <td>296.400000</td>\n",
              "      <td>49.600000</td>\n",
              "      <td>114.000000</td>\n",
              "      <td>27.000000</td>\n",
              "    </tr>\n",
              "  </tbody>\n",
              "</table>\n",
              "</div>"
            ],
            "text/plain": [
              "               TV       Radio   Newspaper       Sales\n",
              "count  200.000000  200.000000  200.000000  200.000000\n",
              "mean   147.042500   23.264000   30.554000   15.130500\n",
              "std     85.854236   14.846809   21.778621    5.283892\n",
              "min      0.700000    0.000000    0.300000    1.600000\n",
              "25%     74.375000    9.975000   12.750000   11.000000\n",
              "50%    149.750000   22.900000   25.750000   16.000000\n",
              "75%    218.825000   36.525000   45.100000   19.050000\n",
              "max    296.400000   49.600000  114.000000   27.000000"
            ]
          },
          "metadata": {
            "tags": []
          },
          "execution_count": 9
        }
      ]
    },
    {
      "cell_type": "markdown",
      "metadata": {
        "id": "kgBp1G7Gi1yv"
      },
      "source": [
        "## Step 2: Visualising the Data\n",
        "\n",
        "Let's now visualise our data using seaborn. We'll first make a pairplot of all the variables present to visualise which variables are most correlated to `Sales`."
      ]
    },
    {
      "cell_type": "code",
      "metadata": {
        "id": "tAxd0iaki1yw"
      },
      "source": [
        "import matplotlib.pyplot as plt \n",
        "import seaborn as sns"
      ],
      "execution_count": 10,
      "outputs": []
    },
    {
      "cell_type": "code",
      "metadata": {
        "colab": {
          "base_uri": "https://localhost:8080/",
          "height": 303
        },
        "id": "GzCvOEHoi1yx",
        "outputId": "3d8065cc-1799-4087-a3e7-aa8eb1d16933"
      },
      "source": [
        "sns.pairplot(advertising, x_vars=['TV', 'Newspaper', 'Radio'], y_vars='Sales',size=4, aspect=1, kind='scatter')\n",
        "plt.show()"
      ],
      "execution_count": 11,
      "outputs": [
        {
          "output_type": "display_data",
          "data": {
            "image/png": "[encoded data removed]",
            "text/plain": [
              "<Figure size 864x288 with 3 Axes>"
            ]
          },
          "metadata": {
            "tags": [],
            "needs_background": "light"
          }
        }
      ]
    },
    {
      "cell_type": "code",
      "metadata": {
        "colab": {
          "base_uri": "https://localhost:8080/",
          "height": 269
        },
        "id": "sJnMfn2Xi1yx",
        "outputId": "65e542ca-b67d-4b0e-bcbf-0e927de41cf1"
      },
      "source": [
        "sns.heatmap(advertising.corr(), cmap=\"YlGnBu\", annot = True)\n",
        "plt.show()"
      ],
      "execution_count": 12,
      "outputs": [
        {
          "output_type": "display_data",
          "data": {
            "image/png": "[encoded data removed]",
            "text/plain": [
              "<Figure size 432x288 with 2 Axes>"
            ]
          },
          "metadata": {
            "tags": [],
            "needs_background": "light"
          }
        }
      ]
    },
    {
      "cell_type": "markdown",
      "metadata": {
        "id": "BvaY18cMi1yy"
      },
      "source": [
        "As is visible from the pairplot and the heatmap, the variable `TV` seems to be most correlated with `Sales`. So let's go ahead and perform simple linear regression using `TV` as our feature variable."
      ]
    },
    {
      "cell_type": "markdown",
      "metadata": {
        "id": "Vign0PZli1yz"
      },
      "source": [
        "---\n",
        "## Step 3: Performing Simple Linear Regression\n",
        "\n",
        "Equation of linear regression<br>\n",
        "$y = c + m_1x_1 + m_2x_2 + ... + m_nx_n$\n",
        "\n",
        "-  $y$ is the response\n",
        "-  $c$ is the intercept\n",
        "-  $m_1$ is the coefficient for the first feature\n",
        "-  $m_n$ is the coefficient for the nth feature<br>\n",
        "\n",
        "In our case:\n",
        "\n",
        "$y = c + m_1 \\times TV$\n",
        "\n",
        "The $m$ values are called the model **coefficients** or **model parameters**.\n",
        "\n",
        "---"
      ]
    },
    {
      "cell_type": "markdown",
      "metadata": {
        "id": "thxQmoHNi1y0"
      },
      "source": [
        "### Generic Steps in model building using `statsmodels`\n",
        "\n",
        "We first assign the feature variable, `TV`, in this case, to the variable `X` and the response variable, `Sales`, to the variable `y`."
      ]
    },
    {
      "cell_type": "code",
      "metadata": {
        "id": "zermyaXbi1y0"
      },
      "source": [
        "X = advertising['TV']\n",
        "y = advertising['Sales']"
      ],
      "execution_count": 13,
      "outputs": []
    },
    {
      "cell_type": "markdown",
      "metadata": {
        "id": "e3lRo11Hi1y1"
      },
      "source": [
        "#### Train-Test Split\n",
        "\n",
        "You now need to split our variable into training and testing sets. You'll perform this by importing `train_test_split` from the `sklearn.model_selection` library. It is usually a good practice to keep 70% of the data in your train dataset and the rest 30% in your test dataset"
      ]
    },
    {
      "cell_type": "code",
      "metadata": {
        "id": "rL_3bzL5i1y1"
      },
      "source": [
        "from sklearn.model_selection import train_test_split\n",
        "X_train, X_test, y_train, y_test = train_test_split(X, y, train_size = 0.7, test_size = 0.3, random_state = 100)"
      ],
      "execution_count": null,
      "outputs": []
    },
    {
      "cell_type": "code",
      "metadata": {
        "id": "JDLYWZTQi1y2",
        "outputId": "3f2d7a0c-75b5-4372-d3bc-ccc476ae7ed2"
      },
      "source": [
        "# Let's now take a look at the train dataset\n",
        "\n",
        "X_train.head()"
      ],
      "execution_count": null,
      "outputs": [
        {
          "output_type": "execute_result",
          "data": {
            "text/plain": [
              "74     213.4\n",
              "3      151.5\n",
              "185    205.0\n",
              "26     142.9\n",
              "90     134.3\n",
              "Name: TV, dtype: float64"
            ]
          },
          "metadata": {
            "tags": []
          },
          "execution_count": 12
        }
      ]
    },
    {
      "cell_type": "code",
      "metadata": {
        "id": "Dtj4nAePi1y3",
        "outputId": "92ce61fe-01d9-4171-a7eb-01c216bfefed"
      },
      "source": [
        "y_train.head()"
      ],
      "execution_count": null,
      "outputs": [
        {
          "output_type": "execute_result",
          "data": {
            "text/plain": [
              "74     17.0\n",
              "3      16.5\n",
              "185    22.6\n",
              "26     15.0\n",
              "90     14.0\n",
              "Name: Sales, dtype: float64"
            ]
          },
          "metadata": {
            "tags": []
          },
          "execution_count": 13
        }
      ]
    },
    {
      "cell_type": "markdown",
      "metadata": {
        "id": "gY1FxJu8i1y3"
      },
      "source": [
        "#### Building a Linear Model\n",
        "\n",
        "You first need to import the `statsmodel.api` library using which you'll perform the linear regression."
      ]
    },
    {
      "cell_type": "code",
      "metadata": {
        "id": "ijk529msi1y4"
      },
      "source": [
        "import statsmodels.api as sm"
      ],
      "execution_count": null,
      "outputs": []
    },
    {
      "cell_type": "markdown",
      "metadata": {
        "id": "r_hX8eq5i1y4"
      },
      "source": [
        "By default, the `statsmodels` library fits a line on the dataset which passes through the origin. But in order to have an intercept, you need to manually use the `add_constant` attribute of `statsmodels`. And once you've added the constant to your `X_train` dataset, you can go ahead and fit a regression line using the `OLS` (Ordinary Least Squares) attribute of `statsmodels` as shown below"
      ]
    },
    {
      "cell_type": "code",
      "metadata": {
        "id": "fmxZiuE0i1y5"
      },
      "source": [
        "# Add a constant to get an intercept\n",
        "X_train_sm = sm.add_constant(X_train)\n",
        "\n",
        "# Fit the resgression line using 'OLS'\n",
        "lr = sm.OLS(y_train, X_train_sm).fit()"
      ],
      "execution_count": null,
      "outputs": []
    },
    {
      "cell_type": "code",
      "metadata": {
        "id": "5OBFFuZei1y5",
        "outputId": "dbeaf078-091c-4ba5-c4b9-7504d14d59e0"
      },
      "source": [
        "# Print the parameters, i.e. the intercept and the slope of the regression line fitted\n",
        "lr.params"
      ],
      "execution_count": null,
      "outputs": [
        {
          "output_type": "execute_result",
          "data": {
            "text/plain": [
              "const    6.948683\n",
              "TV       0.054546\n",
              "dtype: float64"
            ]
          },
          "metadata": {
            "tags": []
          },
          "execution_count": 16
        }
      ]
    },
    {
      "cell_type": "code",
      "metadata": {
        "id": "jInagDTQi1y6",
        "outputId": "95643e9d-76be-40dc-8bd1-41dd4e45e1e9"
      },
      "source": [
        "# Performing a summary operation lists out all the different parameters of the regression line fitted\n",
        "print(lr.summary())"
      ],
      "execution_count": null,
      "outputs": [
        {
          "output_type": "stream",
          "text": [
            "                            OLS Regression Results                            \n",
            "==============================================================================\n",
            "Dep. Variable:                  Sales   R-squared:                       0.816\n",
            "Model:                            OLS   Adj. R-squared:                  0.814\n",
            "Method:                 Least Squares   F-statistic:                     611.2\n",
            "Date:                Thu, 13 Sep 2018   Prob (F-statistic):           1.52e-52\n",
            "Time:                        22:39:43   Log-Likelihood:                -321.12\n",
            "No. Observations:                 140   AIC:                             646.2\n",
            "Df Residuals:                     138   BIC:                             652.1\n",
            "Df Model:                           1                                         \n",
            "Covariance Type:            nonrobust                                         \n",
            "==============================================================================\n",
            "                 coef    std err          t      P>|t|      [0.025      0.975]\n",
            "------------------------------------------------------------------------------\n",
            "const          6.9487      0.385     18.068      0.000       6.188       7.709\n",
            "TV             0.0545      0.002     24.722      0.000       0.050       0.059\n",
            "==============================================================================\n",
            "Omnibus:                        0.027   Durbin-Watson:                   2.196\n",
            "Prob(Omnibus):                  0.987   Jarque-Bera (JB):                0.150\n",
            "Skew:                          -0.006   Prob(JB):                        0.928\n",
            "Kurtosis:                       2.840   Cond. No.                         328.\n",
            "==============================================================================\n",
            "\n",
            "Warnings:\n",
            "[1] Standard Errors assume that the covariance matrix of the errors is correctly specified.\n"
          ],
          "name": "stdout"
        }
      ]
    },
    {
      "cell_type": "markdown",
      "metadata": {
        "id": "Y6NYolsTi1y7"
      },
      "source": [
        "####  Looking at some key statistics from the summary"
      ]
    },
    {
      "cell_type": "markdown",
      "metadata": {
        "id": "8dfeuYsri1y7"
      },
      "source": [
        "The values we are concerned with are - \n",
        "1. The coefficients and significance (p-values)\n",
        "2. R-squared\n",
        "3. F statistic and its significance"
      ]
    },
    {
      "cell_type": "markdown",
      "metadata": {
        "id": "6snqFB0qi1y8"
      },
      "source": [
        "##### 1. The coefficient for TV is 0.054, with a very low p value\n",
        "The coefficient is statistically significant. So the association is not purely by chance. "
      ]
    },
    {
      "cell_type": "markdown",
      "metadata": {
        "id": "agkBr3m9i1y8"
      },
      "source": [
        "##### 2. R - squared is 0.816\n",
        "Meaning that 81.6% of the variance in `Sales` is explained by `TV`\n",
        "\n",
        "This is a decent R-squared value."
      ]
    },
    {
      "cell_type": "markdown",
      "metadata": {
        "id": "UQq2iQj4i1y9"
      },
      "source": [
        "###### 3. F statistic has a very low p value (practically low)\n",
        "Meaning that the model fit is statistically significant, and the explained variance isn't purely by chance."
      ]
    },
    {
      "cell_type": "markdown",
      "metadata": {
        "id": "oRuZxkzai1y9"
      },
      "source": [
        "---\n",
        "The fit is significant. Let's visualize how well the model fit the data.\n",
        "\n",
        "From the parameters that we get, our linear regression equation becomes:\n",
        "\n",
        "$ Sales = 6.948 + 0.054 \\times TV $"
      ]
    },
    {
      "cell_type": "code",
      "metadata": {
        "scrolled": true,
        "id": "FHvOYempi1y9",
        "outputId": "2faf4c97-e40a-413b-9be1-1429acd01e72"
      },
      "source": [
        "plt.scatter(X_train, y_train)\n",
        "plt.plot(X_train, 6.948 + 0.054*X_train, 'r')\n",
        "plt.show()"
      ],
      "execution_count": null,
      "outputs": [
        {
          "output_type": "display_data",
          "data": {
            "image/png": "[encoded data removed]",
            "text/plain": [
              "<matplotlib.figure.Figure at 0x245694aedd8>"
            ]
          },
          "metadata": {
            "tags": []
          }
        }
      ]
    },
    {
      "cell_type": "markdown",
      "metadata": {
        "id": "6YYqTCphi1y-"
      },
      "source": [
        "## Step 4: Residual analysis \n",
        "To validate assumptions of the model, and hence the reliability for inference"
      ]
    },
    {
      "cell_type": "markdown",
      "metadata": {
        "id": "RFlN1hLQi1y_"
      },
      "source": [
        "#### Distribution of the error terms\n",
        "We need to check if the error terms are also normally distributed (which is infact, one of the major assumptions of linear regression), let us plot the histogram of the error terms and see what it looks like."
      ]
    },
    {
      "cell_type": "code",
      "metadata": {
        "id": "tR1LT0Imi1y_"
      },
      "source": [
        "y_train_pred = lr.predict(X_train_sm)\n",
        "res = (y_train - y_train_pred)"
      ],
      "execution_count": null,
      "outputs": []
    },
    {
      "cell_type": "code",
      "metadata": {
        "scrolled": true,
        "id": "LFbxV6fIi1y_",
        "outputId": "702aec50-5f35-4e9d-8a6a-c35a43681ae5"
      },
      "source": [
        "fig = plt.figure()\n",
        "sns.distplot(res, bins = 15)\n",
        "fig.suptitle('Error Terms', fontsize = 15)                  # Plot heading \n",
        "plt.xlabel('y_train - y_train_pred', fontsize = 15)         # X-label\n",
        "plt.show()"
      ],
      "execution_count": null,
      "outputs": [
        {
          "output_type": "display_data",
          "data": {
            "image/png": "[encoded data removed]",
            "text/plain": [
              "<matplotlib.figure.Figure at 0x245694ba7b8>"
            ]
          },
          "metadata": {
            "tags": []
          }
        }
      ]
    },
    {
      "cell_type": "markdown",
      "metadata": {
        "id": "rM4Q5OtPi1zA"
      },
      "source": [
        "The residuals are following the normally distributed with a mean 0. All good!"
      ]
    },
    {
      "cell_type": "markdown",
      "metadata": {
        "id": "aA6t8AzPi1zA"
      },
      "source": [
        "#### Looking for patterns in the residuals"
      ]
    },
    {
      "cell_type": "code",
      "metadata": {
        "id": "5behyj1ui1zA",
        "outputId": "6e716383-1b54-4284-9fad-870499dc6742"
      },
      "source": [
        "plt.scatter(X_train,res)\n",
        "plt.show()"
      ],
      "execution_count": null,
      "outputs": [
        {
          "output_type": "display_data",
          "data": {
            "image/png": "[encoded data removed]",
            "text/plain": [
              "<matplotlib.figure.Figure at 0x245698f7048>"
            ]
          },
          "metadata": {
            "tags": []
          }
        }
      ]
    },
    {
      "cell_type": "markdown",
      "metadata": {
        "id": "DhKRVjiDi1zB"
      },
      "source": [
        "We are confident that the model fit isn't by chance, and has decent predictive power. The normality of residual terms allows some inference on the coefficients.\n",
        "\n",
        "Although, the variance of residuals increasing with X indicates that there is significant variation that this model is unable to explain."
      ]
    },
    {
      "cell_type": "markdown",
      "metadata": {
        "id": "iQ97dyl3i1zB"
      },
      "source": [
        "As you can see, the regression line is a pretty good fit to the data"
      ]
    },
    {
      "cell_type": "markdown",
      "metadata": {
        "id": "lS0rwv4ti1zB"
      },
      "source": [
        "## Step 5: Predictions on the Test Set\n",
        "\n",
        "Now that you have fitted a regression line on your train dataset, it's time to make some predictions on the test data. For this, you first need to add a constant to the `X_test` data like you did for `X_train` and then you can simply go on and predict the y values corresponding to `X_test` using the `predict` attribute of the fitted regression line."
      ]
    },
    {
      "cell_type": "code",
      "metadata": {
        "id": "m1YgRcAvi1zC"
      },
      "source": [
        "# Add a constant to X_test\n",
        "X_test_sm = sm.add_constant(X_test)\n",
        "\n",
        "# Predict the y values corresponding to X_test_sm\n",
        "y_pred = lr.predict(X_test_sm)"
      ],
      "execution_count": null,
      "outputs": []
    },
    {
      "cell_type": "code",
      "metadata": {
        "id": "8IzGJtFGi1zC",
        "outputId": "5a5567a8-e808-44b4-c790-f064749bd41c"
      },
      "source": [
        "y_pred.head()"
      ],
      "execution_count": null,
      "outputs": [
        {
          "output_type": "execute_result",
          "data": {
            "text/plain": [
              "126     7.374140\n",
              "104    19.941482\n",
              "99     14.323269\n",
              "92     18.823294\n",
              "111    20.132392\n",
              "dtype: float64"
            ]
          },
          "metadata": {
            "tags": []
          },
          "execution_count": 23
        }
      ]
    },
    {
      "cell_type": "code",
      "metadata": {
        "id": "fm5zp0yni1zC"
      },
      "source": [
        "from sklearn.metrics import mean_squared_error\n",
        "from sklearn.metrics import r2_score"
      ],
      "execution_count": null,
      "outputs": []
    },
    {
      "cell_type": "markdown",
      "metadata": {
        "id": "OQ6j7p3ti1zC"
      },
      "source": [
        "##### Looking at the RMSE"
      ]
    },
    {
      "cell_type": "code",
      "metadata": {
        "id": "OfWq1uBZi1zD",
        "outputId": "6ac56e72-46ab-410c-d977-86e1e6dde49f"
      },
      "source": [
        "#Returns the mean squared error; we'll take a square root\n",
        "np.sqrt(mean_squared_error(y_test, y_pred))"
      ],
      "execution_count": null,
      "outputs": [
        {
          "output_type": "execute_result",
          "data": {
            "text/plain": [
              "2.019296008966233"
            ]
          },
          "metadata": {
            "tags": []
          },
          "execution_count": 25
        }
      ]
    },
    {
      "cell_type": "markdown",
      "metadata": {
        "id": "TssJaZHhi1zD"
      },
      "source": [
        "###### Checking the R-squared on the test set"
      ]
    },
    {
      "cell_type": "code",
      "metadata": {
        "id": "uTacL2iKi1zD",
        "outputId": "aeb25f46-a5f2-4cc2-eaba-8c430011759d"
      },
      "source": [
        "r_squared = r2_score(y_test, y_pred)\n",
        "r_squared"
      ],
      "execution_count": null,
      "outputs": [
        {
          "output_type": "execute_result",
          "data": {
            "text/plain": [
              "0.7921031601245658"
            ]
          },
          "metadata": {
            "tags": []
          },
          "execution_count": 26
        }
      ]
    },
    {
      "cell_type": "markdown",
      "metadata": {
        "id": "Ra_TEK5qi1zE"
      },
      "source": [
        "##### Visualizing the fit on the test set"
      ]
    },
    {
      "cell_type": "code",
      "metadata": {
        "scrolled": true,
        "id": "wfNp8B-Ti1zE",
        "outputId": "9d443be4-4bfa-4925-cca4-ef0b2eade547"
      },
      "source": [
        "plt.scatter(X_test, y_test)\n",
        "plt.plot(X_test, 6.948 + 0.054 * X_test, 'r')\n",
        "plt.show()"
      ],
      "execution_count": null,
      "outputs": [
        {
          "output_type": "display_data",
          "data": {
            "image/png": "[encoded data removed]",
            "text/plain": [
              "<matplotlib.figure.Figure at 0x245698f7e48>"
            ]
          },
          "metadata": {
            "tags": []
          }
        }
      ]
    },
    {
      "cell_type": "markdown",
      "metadata": {
        "id": "xu3lgx1ji1zE"
      },
      "source": [
        " "
      ]
    },
    {
      "cell_type": "markdown",
      "metadata": {
        "id": "yvgM2iMji1zF"
      },
      "source": [
        " "
      ]
    },
    {
      "cell_type": "markdown",
      "metadata": {
        "id": "t0OknZsWi1zF"
      },
      "source": [
        " "
      ]
    },
    {
      "cell_type": "markdown",
      "metadata": {
        "id": "f0LGxWzTi1zF"
      },
      "source": [
        " "
      ]
    },
    {
      "cell_type": "markdown",
      "metadata": {
        "id": "l4OIzdjHi1zF"
      },
      "source": [
        "### Linear Regression using `linear_model` in `sklearn`\n",
        "\n",
        "Apart from `statsmodels`, there is another package namely `sklearn` that can be used to perform linear regression. We will use the `linear_model` library from `sklearn` to build the model. Since, we hae already performed a train-test split, we don't need to do it again.\n",
        "\n",
        "There's one small step that we need to add, though. When there's only a single feature, we need to add an additional column in order for the linear regression fit to be performed successfully."
      ]
    },
    {
      "cell_type": "code",
      "metadata": {
        "id": "11ej6Oymi1zG"
      },
      "source": [
        "from sklearn.model_selection import train_test_split\n",
        "X_train_lm, X_test_lm, y_train_lm, y_test_lm = train_test_split(X, y, train_size = 0.7, test_size = 0.3, random_state = 100)"
      ],
      "execution_count": null,
      "outputs": []
    },
    {
      "cell_type": "code",
      "metadata": {
        "id": "NjS8VKG0i1zG",
        "outputId": "eb77fd48-4764-45c7-8814-351bbe802232"
      },
      "source": [
        "X_train_lm.shape"
      ],
      "execution_count": null,
      "outputs": [
        {
          "output_type": "execute_result",
          "data": {
            "text/plain": [
              "(140,)"
            ]
          },
          "metadata": {
            "tags": []
          },
          "execution_count": 29
        }
      ]
    },
    {
      "cell_type": "code",
      "metadata": {
        "id": "J-CAzIZpi1zH"
      },
      "source": [
        "X_train_lm = X_train_lm.reshape(-1,1)\n",
        "X_test_lm = X_test_lm.reshape(-1,1)"
      ],
      "execution_count": null,
      "outputs": []
    },
    {
      "cell_type": "code",
      "metadata": {
        "id": "-7jDgrXli1zH",
        "outputId": "18a00dae-a88f-46fa-8c52-455d53e69ca5"
      },
      "source": [
        "print(X_train_lm.shape)\n",
        "print(y_train_lm.shape)\n",
        "print(X_test_lm.shape)\n",
        "print(y_test_lm.shape)"
      ],
      "execution_count": null,
      "outputs": [
        {
          "output_type": "stream",
          "text": [
            "(140, 1)\n",
            "(140,)\n",
            "(60, 1)\n",
            "(60,)\n"
          ],
          "name": "stdout"
        }
      ]
    },
    {
      "cell_type": "code",
      "metadata": {
        "id": "jHiBZTvci1zI",
        "outputId": "ac80c8ed-5d57-4d6c-caf1-a09049c0c4ba"
      },
      "source": [
        "from sklearn.linear_model import LinearRegression\n",
        "\n",
        "# Representing LinearRegression as lr(Creating LinearRegression Object)\n",
        "lm = LinearRegression()\n",
        "\n",
        "# Fit the model using lr.fit()\n",
        "lm.fit(X_train_lm, y_train_lm)"
      ],
      "execution_count": null,
      "outputs": [
        {
          "output_type": "execute_result",
          "data": {
            "text/plain": [
              "LinearRegression(copy_X=True, fit_intercept=True, n_jobs=1, normalize=False)"
            ]
          },
          "metadata": {
            "tags": []
          },
          "execution_count": 32
        }
      ]
    },
    {
      "cell_type": "code",
      "metadata": {
        "id": "j43uKxCei1zI",
        "outputId": "351ab914-a15d-4e5c-c1cf-a9374dc0daa4"
      },
      "source": [
        "print(lm.intercept_)\n",
        "print(lm.coef_)"
      ],
      "execution_count": null,
      "outputs": [
        {
          "output_type": "stream",
          "text": [
            "6.948683200001357\n",
            "[0.05454575]\n"
          ],
          "name": "stdout"
        }
      ]
    },
    {
      "cell_type": "markdown",
      "metadata": {
        "id": "DAEAGG9si1zJ"
      },
      "source": [
        "The equationwe get is the same as what we got before!\n",
        "\n",
        "$ Sales = 6.948 + 0.054* TV $"
      ]
    },
    {
      "cell_type": "markdown",
      "metadata": {
        "id": "xVbUFpCyi1zK"
      },
      "source": [
        "Sklearn linear model is useful as it is compatible with a lot of sklearn utilites (cross validation, grid search etc.)"
      ]
    },
    {
      "cell_type": "markdown",
      "metadata": {
        "id": "4_perQfki1zL"
      },
      "source": [
        " "
      ]
    },
    {
      "cell_type": "markdown",
      "metadata": {
        "id": "yMQqWyPii1zQ"
      },
      "source": [
        " "
      ]
    },
    {
      "cell_type": "markdown",
      "metadata": {
        "id": "TnEN18gyi1zR"
      },
      "source": [
        "  "
      ]
    },
    {
      "cell_type": "markdown",
      "metadata": {
        "id": "jPooRG_ci1zR"
      },
      "source": [
        " "
      ]
    },
    {
      "cell_type": "markdown",
      "metadata": {
        "id": "VnAGXtUFi1zS"
      },
      "source": [
        " "
      ]
    },
    {
      "cell_type": "markdown",
      "metadata": {
        "id": "XnrwNDNci1zS"
      },
      "source": [
        " "
      ]
    },
    {
      "cell_type": "markdown",
      "metadata": {
        "id": "z1o93xbji1zT"
      },
      "source": [
        " "
      ]
    },
    {
      "cell_type": "markdown",
      "metadata": {
        "id": "JeYG_pJei1zU"
      },
      "source": [
        " "
      ]
    },
    {
      "cell_type": "markdown",
      "metadata": {
        "id": "QYkI0o-bi1zU"
      },
      "source": [
        "---\n",
        "## Addressing some common questions/doubts on Simple Linear Regression\n",
        "---"
      ]
    },
    {
      "cell_type": "markdown",
      "metadata": {
        "id": "ePxzOm2Si1zV"
      },
      "source": [
        "### Q: Why is it called 'R-squared'?"
      ]
    },
    {
      "cell_type": "markdown",
      "metadata": {
        "id": "FCF670tfi1zV"
      },
      "source": [
        "Based on what we learnt so far, do you see it? Can you answer this?\n",
        " \n",
        " \n",
        " \n",
        " \n",
        " \n",
        " "
      ]
    },
    {
      "cell_type": "markdown",
      "metadata": {
        "id": "Okk8ETDti1zW"
      },
      "source": [
        ".\n",
        "\n",
        ".\n",
        " \n",
        ".\n",
        "\n",
        ".\n",
        " \n",
        "  #### Drumroll...\n",
        "  \n",
        ".\n",
        " \n",
        ".\n",
        "\n",
        ".\n",
        "\n",
        "."
      ]
    },
    {
      "cell_type": "markdown",
      "metadata": {
        "id": "IAAG_X50i1zW"
      },
      "source": [
        " \n",
        " \n",
        " \n",
        " \n",
        " \n",
        " \n",
        " "
      ]
    },
    {
      "cell_type": "markdown",
      "metadata": {
        "id": "gIQjXxjsi1zX"
      },
      "source": [
        " \n",
        " \n",
        " \n",
        " \n",
        " \n",
        " \n",
        " "
      ]
    },
    {
      "cell_type": "markdown",
      "metadata": {
        "id": "3SACa3wNi1zX"
      },
      "source": [
        " \n",
        " \n",
        " \n",
        " \n",
        " \n",
        " \n",
        " "
      ]
    },
    {
      "cell_type": "code",
      "metadata": {
        "scrolled": true,
        "id": "y7ETlVk9i1zY",
        "outputId": "6a88c3aa-dd1d-484b-b4ac-546fb753a8c4"
      },
      "source": [
        "corrs = np.corrcoef(X_train, y_train)\n",
        "print(corrs)"
      ],
      "execution_count": null,
      "outputs": [
        {
          "output_type": "stream",
          "text": [
            "[[1.         0.90321277]\n",
            " [0.90321277 1.        ]]\n"
          ],
          "name": "stdout"
        }
      ]
    },
    {
      "cell_type": "code",
      "metadata": {
        "id": "kTytbprLi1zY",
        "outputId": "69241a56-0428-4cdd-80ab-925c1ef22c06"
      },
      "source": [
        "corrs[0,1] ** 2"
      ],
      "execution_count": null,
      "outputs": [
        {
          "output_type": "execute_result",
          "data": {
            "text/plain": [
              "0.8157933136480384"
            ]
          },
          "metadata": {
            "tags": []
          },
          "execution_count": 35
        }
      ]
    },
    {
      "cell_type": "markdown",
      "metadata": {
        "id": "jyAwQnKoi1zY"
      },
      "source": [
        "Correlation (Pearson) is also called **\"r\"** or **\"Pearson's R\"**"
      ]
    },
    {
      "cell_type": "markdown",
      "metadata": {
        "id": "2UiGjBXAi1zZ"
      },
      "source": [
        " \n",
        " \n",
        " \n",
        " \n",
        " \n",
        " \n",
        " "
      ]
    },
    {
      "cell_type": "markdown",
      "metadata": {
        "id": "Iyj1mZR-i1zZ"
      },
      "source": [
        " "
      ]
    },
    {
      "cell_type": "markdown",
      "metadata": {
        "id": "BBClxH4qi1zZ"
      },
      "source": [
        "### Q: What is a good RMSE? Is there some RMSE that I should aim for?"
      ]
    },
    {
      "cell_type": "markdown",
      "metadata": {
        "id": "AI50Rm9Vi1zZ"
      },
      "source": [
        "<br>\n",
        "\n",
        "<br>\n",
        "\n",
        "You should be able to answer this by now!\n",
        "\n",
        "\n",
        "<br>\n",
        "\n",
        "\n",
        "<br>\n",
        "\n",
        "\n",
        "\n",
        "Look at \"Sharma ji ka beta\"; he could answer this in a moment. How lucky is Sharma ji to have such a smart kid!"
      ]
    },
    {
      "cell_type": "markdown",
      "metadata": {
        "id": "aNOB9_7Yi1za"
      },
      "source": [
        " \n",
        " \n",
        " \n",
        " \n",
        " \n",
        " \n",
        " "
      ]
    },
    {
      "cell_type": "markdown",
      "metadata": {
        "id": "9CPYmEW0i1za"
      },
      "source": [
        ".\n",
        "\n",
        ".\n",
        " \n",
        ".\n",
        "\n",
        ".\n",
        " \n",
        "  #### Drumroll...\n",
        "  \n",
        ".\n",
        " \n",
        ".\n",
        "\n",
        ".\n",
        "\n",
        "."
      ]
    },
    {
      "cell_type": "markdown",
      "metadata": {
        "id": "FdHsUbMWi1za"
      },
      "source": [
        " \n",
        " \n",
        " \n",
        " \n",
        " \n",
        " \n",
        " "
      ]
    },
    {
      "cell_type": "markdown",
      "metadata": {
        "id": "HCHpRA-gi1za"
      },
      "source": [
        "The RMSE:\n",
        " - depends on the units of the Y variables\n",
        " - is NOT a normalized measure\n",
        " \n",
        "While it can't really tell you of the gooodness of the particular model, it can help you compare models. \n",
        "\n",
        "A better measure is R squared, which is normalized."
      ]
    },
    {
      "cell_type": "markdown",
      "metadata": {
        "id": "1Ytq_emKi1zb"
      },
      "source": [
        "<br>\n",
        "<br>\n",
        "<br>\n",
        "<br>\n",
        "<br>\n",
        "<br>\n",
        "<br>\n",
        "<br>\n",
        "<br>\n",
        "<br>\n",
        "<br>"
      ]
    },
    {
      "cell_type": "markdown",
      "metadata": {
        "id": "oeXzpveJi1zb"
      },
      "source": [
        "### Q: Does scaling have an impact on the model? When should I scale?"
      ]
    },
    {
      "cell_type": "markdown",
      "metadata": {
        "id": "CkLWN0XQi1zb"
      },
      "source": [
        "<br>\n",
        "<br>\n",
        "<br>\n",
        "<br>\n",
        "<br>\n",
        "<br>"
      ]
    },
    {
      "cell_type": "markdown",
      "metadata": {
        "id": "q4MYPtMhi1zb"
      },
      "source": [
        "While the true benefits of scaling will be apparent during future modules, at this juncture we can discuss if it has an impact on the model.\n",
        "\n",
        "We'll rebuild the model after scaling the predictor and see what changes.\n",
        "\n",
        "The most popular methods for scaling:\n",
        "1. Min-Max Scaling\n",
        "2. Standard Scaling"
      ]
    },
    {
      "cell_type": "code",
      "metadata": {
        "id": "ONN53WTji1zc"
      },
      "source": [
        "from sklearn.model_selection import train_test_split\n",
        "X_train, X_test, y_train, y_test = train_test_split(X, y, train_size = 0.7, test_size = 0.3, random_state = 100)"
      ],
      "execution_count": null,
      "outputs": []
    },
    {
      "cell_type": "markdown",
      "metadata": {
        "id": "TFgCWwh3i1zc"
      },
      "source": [
        "#### SciKit Learn has these scaling utilities handy"
      ]
    },
    {
      "cell_type": "code",
      "metadata": {
        "id": "lK8sgAo_i1zc"
      },
      "source": [
        "from sklearn.preprocessing import StandardScaler, MinMaxScaler"
      ],
      "execution_count": null,
      "outputs": []
    },
    {
      "cell_type": "code",
      "metadata": {
        "id": "ExBY6Bs2i1zc"
      },
      "source": [
        "# One aspect that you need to take care of is that the 'fit_transform' can be performed on 2D arrays only. So you need to\n",
        "# reshape your 'X_train_scaled' and 'y_trained_scaled' data in order to perform the standardisation.\n",
        "X_train_scaled = X_train.reshape(-1,1)\n",
        "y_train_scaled = y_train.reshape(-1,1)"
      ],
      "execution_count": null,
      "outputs": []
    },
    {
      "cell_type": "code",
      "metadata": {
        "id": "Ylwc9zzki1zd",
        "outputId": "0e789f9e-643b-470f-ddea-3adde3f507a8"
      },
      "source": [
        "X_train_scaled.shape"
      ],
      "execution_count": null,
      "outputs": [
        {
          "output_type": "execute_result",
          "data": {
            "text/plain": [
              "(140, 1)"
            ]
          },
          "metadata": {
            "tags": []
          },
          "execution_count": 39
        }
      ]
    },
    {
      "cell_type": "code",
      "metadata": {
        "id": "Ga-X_m9_i1zd"
      },
      "source": [
        "# Create a scaler object using StandardScaler()\n",
        "scaler = StandardScaler()\n",
        "#'Fit' and transform the train set; and transform using the fit on the test set later\n",
        "X_train_scaled = scaler.fit_transform(X_train_scaled)\n",
        "y_train_scaled = scaler.fit_transform(y_train_scaled)"
      ],
      "execution_count": null,
      "outputs": []
    },
    {
      "cell_type": "code",
      "metadata": {
        "id": "G_yUx3asi1zd",
        "outputId": "08a450b0-1811-4913-b795-14e2ea98e108"
      },
      "source": [
        "print(\"mean and sd for X_train_scaled:\", np.mean(X_train_scaled), np.std(X_train_scaled))\n",
        "print(\"mean and sd for y_train_scaled:\", np.mean(y_train_scaled), np.std(y_train_scaled))"
      ],
      "execution_count": null,
      "outputs": [
        {
          "output_type": "stream",
          "text": [
            "mean and sd for X_train_scaled: 2.5376526277146434e-17 0.9999999999999999\n",
            "mean and sd for y_train_scaled: -2.5376526277146434e-16 1.0\n"
          ],
          "name": "stdout"
        }
      ]
    },
    {
      "cell_type": "code",
      "metadata": {
        "id": "BAwCuTKui1ze"
      },
      "source": [
        "# Let's fit the regression line following exactly the same steps as done before\n",
        "X_train_scaled = sm.add_constant(X_train_scaled)\n",
        "\n",
        "lr_scaled = sm.OLS(y_train_scaled, X_train_scaled).fit()"
      ],
      "execution_count": null,
      "outputs": []
    },
    {
      "cell_type": "code",
      "metadata": {
        "id": "gefG_R_Ai1ze",
        "outputId": "246bd4e4-b9d2-4f1b-cfe8-532994ee6fbb"
      },
      "source": [
        "# Check the parameters\n",
        "lr_scaled.params"
      ],
      "execution_count": null,
      "outputs": [
        {
          "output_type": "execute_result",
          "data": {
            "text/plain": [
              "array([-2.91433544e-16,  9.03212773e-01])"
            ]
          },
          "metadata": {
            "tags": []
          },
          "execution_count": 43
        }
      ]
    },
    {
      "cell_type": "markdown",
      "metadata": {
        "id": "S7__7qG2i1ze"
      },
      "source": [
        "As you might notice, the value of the parameters have changed since we have changed the scale."
      ]
    },
    {
      "cell_type": "markdown",
      "metadata": {
        "id": "PfKGeZ5Vi1ze"
      },
      "source": [
        "Let's look at the statistics of the model, to see if any other aspect of the model has changed."
      ]
    },
    {
      "cell_type": "code",
      "metadata": {
        "id": "C8ROWp9di1zf",
        "outputId": "521067d2-af70-434d-8548-56e3a0253bcf"
      },
      "source": [
        "print(lr_scaled.summary())"
      ],
      "execution_count": null,
      "outputs": [
        {
          "output_type": "stream",
          "text": [
            "                            OLS Regression Results                            \n",
            "==============================================================================\n",
            "Dep. Variable:                      y   R-squared:                       0.816\n",
            "Model:                            OLS   Adj. R-squared:                  0.814\n",
            "Method:                 Least Squares   F-statistic:                     611.2\n",
            "Date:                Thu, 13 Sep 2018   Prob (F-statistic):           1.52e-52\n",
            "Time:                        22:39:46   Log-Likelihood:                -80.233\n",
            "No. Observations:                 140   AIC:                             164.5\n",
            "Df Residuals:                     138   BIC:                             170.3\n",
            "Df Model:                           1                                         \n",
            "Covariance Type:            nonrobust                                         \n",
            "==============================================================================\n",
            "                 coef    std err          t      P>|t|      [0.025      0.975]\n",
            "------------------------------------------------------------------------------\n",
            "const      -2.914e-16      0.037  -7.98e-15      1.000      -0.072       0.072\n",
            "x1             0.9032      0.037     24.722      0.000       0.831       0.975\n",
            "==============================================================================\n",
            "Omnibus:                        0.027   Durbin-Watson:                   2.196\n",
            "Prob(Omnibus):                  0.987   Jarque-Bera (JB):                0.150\n",
            "Skew:                          -0.006   Prob(JB):                        0.928\n",
            "Kurtosis:                       2.840   Cond. No.                         1.00\n",
            "==============================================================================\n",
            "\n",
            "Warnings:\n",
            "[1] Standard Errors assume that the covariance matrix of the errors is correctly specified.\n"
          ],
          "name": "stdout"
        }
      ]
    },
    {
      "cell_type": "markdown",
      "metadata": {
        "id": "BOjv8U_ti1zf"
      },
      "source": [
        "#### Model statistics and goodness of fit remain unchanged.\n",
        "\n",
        "##### So why scale at all?\n",
        "- Helps with interpretation (we'll be able to appreciate this better in later modules)\n",
        "- Faster convergence of gradient descent"
      ]
    }
  ]
}